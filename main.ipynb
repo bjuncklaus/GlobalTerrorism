{
 "cells": [
  {
   "cell_type": "code",
   "execution_count": 1,
   "metadata": {
    "collapsed": true
   },
   "outputs": [],
   "source": [
    "import pandas as pd"
   ]
  },
  {
   "cell_type": "code",
   "execution_count": 25,
   "metadata": {},
   "outputs": [
    {
     "name": "stderr",
     "output_type": "stream",
     "text": [
      "/home/bmartins/workspace/virtualenv_python3.5/lib/python3.5/site-packages/IPython/core/interactiveshell.py:2698: DtypeWarning: Columns (4,6,31,33,53,61,62,63,76,79,90,92,94,96,114,115,121) have mixed types. Specify dtype option on import or set low_memory=False.\n",
      "  interactivity=interactivity, compiler=compiler, result=result)\n"
     ]
    }
   ],
   "source": [
    "df = pd.read_csv('globalterrorismdb_0617dist.csv', encoding='ISO-8859-1', parse_dates=True)"
   ]
  },
  {
   "cell_type": "code",
   "execution_count": 23,
   "metadata": {},
   "outputs": [
    {
     "name": "stdout",
     "output_type": "stream",
     "text": [
      "Rows: 170350\n",
      "Valid rows: 165744\n"
     ]
    }
   ],
   "source": [
    "print('Rows:', len(df[['latitude', 'longitude']]))\n",
    "print('Valid rows:', len(df[['latitude', 'longitude']].dropna()))"
   ]
  },
  {
   "cell_type": "code",
   "execution_count": 37,
   "metadata": {},
   "outputs": [
    {
     "data": {
      "text/plain": [
       "' Take a look at: http://qingkaikong.blogspot.com.br/2016/02/plot-earthquake-heatmap-on-basemap-and.html'"
      ]
     },
     "execution_count": 37,
     "metadata": {},
     "output_type": "execute_result"
    }
   ],
   "source": [
    "''' Take a look at: http://qingkaikong.blogspot.com.br/2016/02/plot-earthquake-heatmap-on-basemap-and.html'''\n",
    "# import numpy as np \n",
    "# from pandas import DataFrame\n",
    "# import seaborn as sns\n",
    "\n",
    "# %matplotlib inline\n",
    "\n",
    "# Index= ['aaa', 'bbb', 'ccc', 'ddd', 'eee']\n",
    "# Cols = ['A', 'B', 'C', 'D']\n",
    "# df = DataFrame(abs(np.random.randn(5, 4)), index=Index, columns=Cols)\n",
    "# sns.heatmap(df, linewidths=0.5, annot=True)"
   ]
  }
 ],
 "metadata": {
  "kernelspec": {
   "display_name": "Python 3",
   "language": "python",
   "name": "python3"
  },
  "language_info": {
   "codemirror_mode": {
    "name": "ipython",
    "version": 3
   },
   "file_extension": ".py",
   "mimetype": "text/x-python",
   "name": "python",
   "nbconvert_exporter": "python",
   "pygments_lexer": "ipython3",
   "version": "3.5.3"
  }
 },
 "nbformat": 4,
 "nbformat_minor": 2
}
